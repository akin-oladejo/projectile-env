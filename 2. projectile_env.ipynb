{
  "cells": [
    {
      "cell_type": "markdown",
      "metadata": {
        "id": "qN82AM0t2qkX"
      },
      "source": [
        "# Applying the Q-Learning Algorithm to a custom environment\n",
        "In the previous article, we built the standard Q-learning algorithm from scratch and implemented it as a class, `Q`. In this article we will construct a simple environment and attempt to solve it using the `Q` class.\n",
        "\n",
        "## The Environment\n",
        "A device shoots a projectile from the ground toward a target that is also at ground level. The shooter is initialized with a default initial velocity (we'll set this to 15m/s but you can change it if you want). Assuming acceleration due to gravity (g) is 9.8m/s², given a discrete target distance, determine the nearest <ins>available</ins> angle (in degrees) the projectile should be jetted at. \n",
        "\n",
        "Note: We also supply the target range. The standard q-learning algorithm is commonly applied to discrete state and action spaces so it is more intuitive to provide whole number target values (and thus whole number states)\n",
        "\n",
        "Also, in this environment, there are nine angles available: 5°, 10°, 15°, 20°, 25°, 30°, 35°, 40° and 45°\n",
        "\n",
        "How might we solve this task?"
      ]
    },
    {
      "cell_type": "markdown",
      "metadata": {
        "id": "MkFxLzzxE-J8"
      },
      "source": [
        "## Designing the state and action space\n",
        "The environment itself will be implemented as a subclass of `Env` provided by the openai gym library. The [gym](https://www.gymlibrary.dev/content/basic_usage/) library is a popular resource used to write environments in code for agents to interact with. It provides popular environments for testing algorithms and gives you the tools to create your custom environments. \n",
        "\n",
        "The advantage of subclassing `Env` is that by only overriding only the necessary methods, we can still solve our custom environment using baseline algorithms from other libraries designed with the `gym.Env` class in mind.\n"
      ]
    },
    {
      "cell_type": "markdown",
      "metadata": {
        "id": "MxqsiAvnHC9P"
      },
      "source": [
        "### The State space\n",
        "This is a simple environment. The states will simply be discrete values representing the target distances. Thus, I use the `Box` data structure provided in the `gym.spaces` sublibrary.  \n",
        "`Box` is essentially an array that allows you to specify the lower and upper bounds for each dimension, as well as the shape and data type of the array. To understand this data structure better, consult the [documentation](https://www.gymlibrary.dev/api/spaces/#box). The documentation is also a good starting point to get familiar with other spaces provided in the `gym` universe.\n",
        "\n",
        "The state space is defined in the `__init__` method below. Look for the line:\n",
        "```\n",
        "self.observation_space = Box(low=target_low, high=target_high, shape=(1,), dtype=np.int32)\n",
        "```\n",
        "The `__init__` method, a [dunder](https://docs.python.org/3/reference/datamodel.html#special-method-names) (or magic method, as special methods like it are called in Python), is a special method that is called when an object of a class is instantiated. By passing the values `target_low` and `target_high` as instantiation parameters to the environment object, you set the bounds of the state space. By default, the default values are 3 and 22, meaning the target values to learn the angles for range from 3m to 22m."
      ]
    },
    {
      "cell_type": "markdown",
      "metadata": {
        "id": "8l92v2kyMgFq"
      },
      "source": [
        "### The Action space\n",
        "Similarly, the action space will be discrete, representing the angles to choose from. The action space will be represented by the `Discrete` data structure, which is simply a finite array that begins at 0 and ends at the provided argument for `n`. There are a couple differences between `Discrete` and `Box` such as that `Discrete` strictly contains integer values, is of dimension 1 and starts at 0. `Box` on the other hand can handle multiple data types, can be multidimensional and allows you to set different bound values for each dimension. \n",
        "\n",
        "_Note: I used the `Box` data structure for the state space because I wanted it to be possible to have a non-zero lower target range i.e the user can determine that the lower target range is 100m._\n",
        "\n",
        "_The documentation for `Discrete` can be found [here](https://www.gymlibrary.dev/api/spaces/#discrete)_\n",
        "\n",
        "I set up the action space using these lines in the `__init__` method:\n",
        "```\n",
        "self.action_space = Discrete(9)\n",
        "\n",
        "self.action_to_angle = {\n",
        "    0:5,\n",
        "    1:10,\n",
        "    2:15,\n",
        "    3:20,\n",
        "    4:25, \n",
        "    5:30, \n",
        "    6:35, \n",
        "    7:40,\n",
        "    8:45\n",
        "}\n",
        "```\n",
        "The attribute `action_to_angle` will serve as a lookup for converting supplied action values to angles."
      ]
    },
    {
      "cell_type": "markdown",
      "metadata": {
        "id": "8vKHUmkg5Ql8"
      },
      "source": [
        "## The reward scheme\n",
        "Since Q-learning is a value-based algorithm and obtains its policy indirectly using an action-value table, we need to come up with a scheme to encourage choosing the right angle.  \n",
        "There are maybe better ways to do this, but I decided to go with this scheme:\n",
        "- calculate error as the absolute distance between the target distance and the range covered by the projectile\n",
        "- create a dictionary to store the lowest errors attained at each supplied target value\n",
        "- if the angle supplied during a timestep results in reducing the minimum error achieved for that target/state, the reward for that timestep is `+1`. If the error is greater, the reward is `-1`. If there is no change in the minimum error for that target value, the reward is simple, `0`.😐\n",
        "\n",
        "This way, the policy indirectly trained will be to either reduce the error, or supply the angle that achieved the lowest error.  \n",
        "  \n",
        "  \n",
        "Having explained the design of this environment, let's get into the code.\n"
      ]
    },
    {
      "cell_type": "markdown",
      "metadata": {
        "id": "zRl-_okHP4gn"
      },
      "source": [
        "## Importing Libraries"
      ]
    },
    {
      "cell_type": "code",
      "execution_count": 1,
      "metadata": {
        "id": "7T8s6FukQCju"
      },
      "outputs": [],
      "source": [
        "from gym import Env\n",
        "import numpy as np\n",
        "from gym.spaces import Discrete, Box\n",
        "import matplotlib.pyplot as plt\n",
        "%matplotlib inline\n",
        "import random"
      ]
    },
    {
      "cell_type": "markdown",
      "metadata": {
        "id": "zPntOcxyUEZZ"
      },
      "source": [
        "## Initialization\n",
        "Much of the initialization code has been explained above. \n",
        "\n",
        "In addition, an attribute `max_repeat` is created. `max_repeat` represents the maximum number of times a target value will be repeated when `step` is called. If `max_repeat` is set to 4 and the current target is 5m, you will need to call the `step` method 4 times to move on to the next target value. This allows us perform more qtable updates for each target during an episode.\n",
        "\n",
        "A dictionary `min_error` is created to store the minimum absolute errors attained for each target.\n",
        "\n",
        "Also, a dict `target_to_state` is created which will be used to convert the target distance to a state value, for the qtable."
      ]
    },
    {
      "cell_type": "code",
      "execution_count": 2,
      "metadata": {
        "id": "453p6lQuUL4m"
      },
      "outputs": [],
      "source": [
        "def __init__(self, initial_velocity=15, g=9.8, target_low=3, target_high=22, max_repeat=9):\n",
        "    self.name = 'Projectile'\n",
        "    # define environment bounds\n",
        "    self.observation_space = Box(low=target_low, high=target_high, shape=(1,), dtype=np.int32)\n",
        "\n",
        "    # there are 9 actions corresponding to the interval of angles from 5 to 45\n",
        "    self.action_space = Discrete(9)\n",
        "\n",
        "    # store these for easy access later\n",
        "    self.n_actions = self.action_space.n\n",
        "    self.n_states = target_high - target_low + 1\n",
        "\n",
        "    self.v = initial_velocity # the default value for initial_velocity is 15m/s\n",
        "    self.g = g # the default value for acceleration due to gravity is 9.8m/s²\n",
        "    \n",
        "    # the number of times to repeat a target value before moving on to the next\n",
        "    self.max_repeat = max_repeat \n",
        "\n",
        "    # for action-to-angle conversion\n",
        "    self.action_to_angle = {\n",
        "        0:5,\n",
        "        1:10,\n",
        "        2:15,\n",
        "        3:20,\n",
        "        4:25, \n",
        "        5:30, \n",
        "        6:35, \n",
        "        7:40,\n",
        "        8:45\n",
        "    }\n",
        "\n",
        "    # create a lookup of discrete state values corresponding to target distances\n",
        "    self.target_to_state = {i:x for x,i in enumerate((range(target_low, target_high+1)))}\n",
        "\n",
        "    # keep track of the lowest error attained for each target\n",
        "    self.min_error = {x:np.inf for x in range(self.observation_space.low[0], self.observation_space.high[0] + 1)}"
      ]
    },
    {
      "cell_type": "markdown",
      "metadata": {
        "id": "tFiDZ4cNR6O-"
      },
      "source": [
        "## Reset\n",
        "The `reset()` method is called to reset the state of an environment. Our `reset` method \n",
        "1. creates an attribute `target_list` which is an array of all the target distances and shuffles the elements. It does this so we can keep track of the current episode's arrangement of target values. \n",
        "2. selects an initial target and removes it from `target_list`, using the `new_target()` method.\n",
        "3. initializes the range of the projectile to 0, because we are yet to take an action. \n",
        "4. initializes an attribute `current_countdown` for that target. `current_countdown` starts at the value of `max_repeat` and is reduced at each time step by 1. When it eventually becomes 0, a new target will be supplied.\n",
        "5. sets the `done` attribute to False. `done` becomes true when the episode is over.\n",
        "4. returns the current observation using `self.get_obs()` and\n",
        " the current error calculated by `self.get_info()`"
      ]
    },
    {
      "cell_type": "code",
      "execution_count": 3,
      "metadata": {
        "id": "zfZ6ABsnCD1Q"
      },
      "outputs": [],
      "source": [
        "def new_target(self):\n",
        "    # pick a target from the list of targets and remove it \n",
        "    self.target = self.target_list.pop()\n",
        "    \n",
        "\n",
        "def get_obs(self, verbose=False):\n",
        "    # self.target = self.observation_space.sample() # generate random target\n",
        "    self.state = self.target_to_state[self.target] # represent target as state\n",
        "\n",
        "    # if verbose=True, return the true value of the target distance, else return \n",
        "    # its representation as a state value\n",
        "    if verbose:\n",
        "        return f'Target distance: {self.target}m'\n",
        "    else:\n",
        "        return self.state\n",
        "\n",
        "\n",
        "def get_info(self, verbose=True):\n",
        "    # return the number of meters by which we've missed the target\n",
        "    self.error = np.abs(self.target - self.range) # absolute error\n",
        "\n",
        "    # if verbose=True, return a full sentence, else just return the value of the error\n",
        "    if verbose:\n",
        "        return f'Error: {self.error:.2f}m'\n",
        "    else:\n",
        "        return self.error\n",
        "\n",
        "def reset(self, verbose=True):\n",
        "    # store the set of targets we can select from \n",
        "    self.target_list = list(range(self.observation_space.low[0], self.observation_space.high[0] + 1))\n",
        "\n",
        "    random.shuffle(self.target_list) # shuffle the available targets\n",
        "\n",
        "    self.new_target() # generate a target value\n",
        "    \n",
        "    self.range = 0 # the projectile is yet to be shot, so range is still 0\n",
        "    self.current_countdown = self.repeat_count # start the countdown for the current target\n",
        "    self.done = False\n",
        "\n",
        "    return self.get_obs(verbose), self.get_info()"
      ]
    },
    {
      "cell_type": "markdown",
      "metadata": {
        "id": "p77M2_YwUueL"
      },
      "source": [
        "## Calculating the Range\n",
        "The range (also known as horizontal distance) of the projectile is calculated using the standard formula for a projectile's range, assuming no air resistance and that the final height of the projectile is equal to its initial height:  \n",
        "\n",
        "![image.png](data:image/png;base64,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)  \n",
        "The angle, θ, is converted to radians from degrees."
      ]
    },
    {
      "cell_type": "code",
      "execution_count": 4,
      "metadata": {
        "id": "Bw_EUgaVMMvO"
      },
      "outputs": [],
      "source": [
        "def calc_range(self):\n",
        "    # calculate the range of the projectile using the relation v²·sin(2θ)/g\n",
        "    rad = np.pi/180 * angle\n",
        "    range = (v**2) * np.sin(2 * rad) / g\n",
        "    return range"
      ]
    },
    {
      "cell_type": "markdown",
      "metadata": {
        "id": "2N7HQr3GR7-p"
      },
      "source": [
        "## Step\n",
        "Calling `step` decrements `current_countdown` by 1. It takes an action value and calculates the range by calling `calc_range()`. The error is computed using `get_info()`. \n",
        "The reward is calculated using the scheme above. If the `current_countdown` is 0, a new target value is generated using `new_target` and `current_countdown` is reinitialized to the value of `max_repeat`. Once we run out of target values, `done` is set to `True`, ending the episode."
      ]
    },
    {
      "cell_type": "code",
      "execution_count": 5,
      "metadata": {
        "id": "giK9FgGnKk13"
      },
      "outputs": [],
      "source": [
        "def step(self, action):\n",
        "    # print(target_list)\n",
        "    # reduce the target repeat countdown by 1\n",
        "    current_countdown -= 1\n",
        "\n",
        "    # map the action to the angle of projectile\n",
        "    angle = action_to_angle[action]\n",
        "\n",
        "    # this is the range covered by the projectile at the given angle, save it in the \n",
        "    # lookup table for current ranges\n",
        "    range = calc_range()\n",
        "\n",
        "    # evaluate error for this round\n",
        "    error = get_info(verbose=False) \n",
        "\n",
        "    # if the error in this round is less than the history of errors for this round, the \n",
        "    # reward is set to +1. If it is higher, -1. Else, the reward is 0\n",
        "    if error < min_error[target]:\n",
        "        reward = 1 \n",
        "        min_error[target] = error # update error range value\n",
        "    elif error > min_error[target]:\n",
        "        reward = -1\n",
        "    elif error == min_error[target]:\n",
        "        reward = 0\n",
        "\n",
        "    if current_countdown == 0:\n",
        "        if len(target_list) == 0:\n",
        "            # set done to True when there are no values left in target_list and end episode\n",
        "            done = True\n",
        "        else:\n",
        "            # else supply a new target and start the repeat counter again\n",
        "            new_target()\n",
        "            current_countdown = max_repeat\n",
        "    \n",
        "    return get_obs(), reward, done, get_info()"
      ]
    },
    {
      "cell_type": "markdown",
      "metadata": {
        "id": "cyK-5QOSR-Ym"
      },
      "source": [
        "## Rendering\n",
        "`render()` contains the logic to visualize the target, range and error, using the `numpy` library to calculate displacement values and `matplotlib` library for visualization."
      ]
    },
    {
      "cell_type": "code",
      "execution_count": 6,
      "metadata": {
        "id": "rU3XqDynMuZB"
      },
      "outputs": [],
      "source": [
        "def render(target, angle):\n",
        "    v, g = 15, 9.8 # initialize velocity and acceleration due to gravity\n",
        "    rad = np.pi/180 * angle\n",
        "    plt.figure()\n",
        "    params = {'mathtext.default': 'regular' }  # mathtext, for subscripting 0 in v0 in plot title\n",
        "    tmax = (2 * v) * np.sin(rad) / g # calculate time of flight\n",
        "    t = tmax*np.linspace(0,1,100) # divide time of flight into 100 uniform time steps\n",
        "    x = ((v * t) * np.cos(rad)) # horizontal distance at each time step\n",
        "    y = ((v * t) * np.sin(rad)) - ((0.5 * g) * (t ** 2)) # vertical distance \n",
        "\n",
        "    plt.plot(x, y, color='g') # plot path\n",
        "\n",
        "    # draw line to target target (i.e desired distance) saved in `target`\n",
        "    plt.axvline(x = target, ls='--', color = 'b', label = f'target: {target}m') \n",
        "\n",
        "    # draw projectile at final coordinates\n",
        "    plt.scatter(x[-1], y[-1], color='r', marker=\"^\", s=200)\n",
        "\n",
        "    plt.ylim([0,10])\n",
        "    plt.xlim(left=0)\n",
        "    plt.title(f'$v_{0}$ = {v}m/s, θ = {angle}°, abs. error = {np.abs(x[-1]-target):.2f}m')\n",
        "    plt.legend()"
      ]
    },
    {
      "cell_type": "code",
      "execution_count": 7,
      "metadata": {
        "colab": {
          "base_uri": "https://localhost:8080/",
          "height": 283
        },
        "id": "f0Wy5Cy9Nc1n",
        "outputId": "711ae986-4260-41d7-a574-70bf395835b4"
      },
      "outputs": [
        {
          "data": {
            "image/png": "[encoded data removed]",
            "text/plain": [
              "<Figure size 432x288 with 1 Axes>"
            ]
          },
          "metadata": {
            "needs_background": "light"
          },
          "output_type": "display_data"
        }
      ],
      "source": [
        "render(target=15, angle=30)"
      ]
    },
    {
      "cell_type": "markdown",
      "metadata": {
        "id": "BFs3MjzjSEDD"
      },
      "source": [
        "## Putting it all together in a class: `Projectile`"
      ]
    },
    {
      "cell_type": "code",
      "execution_count": 8,
      "metadata": {
        "id": "N8NtLmfy2n2y"
      },
      "outputs": [],
      "source": [
        "class Projectile(Env):\n",
        "    def __init__(self, initial_velocity=15, g=9.8, target_low=3, target_high=22, max_repeat=9):\n",
        "        self.name = 'Projectile'\n",
        "        # define environment bounds\n",
        "        self.observation_space = Box(low=target_low, high=target_high, shape=(1,), dtype=np.int32)\n",
        "\n",
        "        # there are 9 actions corresponding to the interval of angles from 5 to 45\n",
        "        self.action_space = Discrete(9)\n",
        "\n",
        "        # store these for easy access later\n",
        "        self.n_actions = self.action_space.n\n",
        "        self.n_states = target_high - target_low + 1\n",
        "\n",
        "        self.v = initial_velocity # the default value for initial_velocity is 15m/s\n",
        "        self.g = g # the default value for acceleration due to gravity is 9.8m/s²\n",
        "        \n",
        "        # the number of times to repeat a target value before moving on to the next\n",
        "        self.max_repeat = max_repeat \n",
        "\n",
        "        # lookup the angle values for each action\n",
        "        self.action_to_angle = {\n",
        "            0:5,\n",
        "            1:10,\n",
        "            2:15,\n",
        "            3:20,\n",
        "            4:25, \n",
        "            5:30, \n",
        "            6:35, \n",
        "            7:40,\n",
        "            8:45\n",
        "        }\n",
        "\n",
        "        # create a lookup of discrete state values corresponding to target distances\n",
        "        self.target_to_state = {i:x for x,i in enumerate((range(target_low, target_high+1)))}\n",
        "\n",
        "        # keep track of the lowest error attained for each target\n",
        "        self.min_error = {x:np.inf for x in range(self.observation_space.low[0], self.observation_space.high[0] + 1)} \n",
        "\n",
        "\n",
        "    def new_target(self):\n",
        "        # pick a target from the list of targets and remove it \n",
        "        self.target = self.target_list.pop()\n",
        "        \n",
        "\n",
        "    def get_obs(self, verbose=False):\n",
        "        # self.target = self.observation_space.sample() # generate random target\n",
        "        self.state = self.target_to_state[self.target] # represent target as state\n",
        "\n",
        "        # if verbose=True, return the true value of the target distance, else return \n",
        "        # its representation as a state value\n",
        "        if verbose:\n",
        "            return f'Target distance: {self.target}m'\n",
        "        else:\n",
        "            return self.state\n",
        "\n",
        "\n",
        "    def get_info(self, verbose=True):\n",
        "        # return the number of meters by which we've missed the target\n",
        "        self.error = np.abs(self.target - self.range) # absolute error\n",
        "\n",
        "        # if verbose=True, return a full sentence, else just return the value of the error\n",
        "        if verbose:\n",
        "            return f'Error: {self.error:.2f}m'\n",
        "        else:\n",
        "            return self.error\n",
        "\n",
        "    def reset(self, verbose=True):\n",
        "        # store the set of targets we can select from \n",
        "        self.target_list = list(range(self.observation_space.low[0], self.observation_space.high[0] + 1))\n",
        "\n",
        "        random.shuffle(self.target_list) # shuffle the available targets\n",
        "        self.new_target() # generate a target value\n",
        "        self.range = 0 # the projectile is yet to be shot, so range is still 0\n",
        "        self.current_countdown = self.max_repeat # start the countdown for the current target\n",
        "        self.done = False\n",
        "\n",
        "        return self.get_obs(verbose), self.get_info()\n",
        "\n",
        "\n",
        "    def calc_range(self):\n",
        "        # calculate the range of the projectile using the relation v²·sin(2θ)/g\n",
        "        rad = np.pi/180 * self.angle\n",
        "        range = (self.v**2) * np.sin(2 * rad) / self.g\n",
        "        return range\n",
        "\n",
        "    def step(self, action):\n",
        "        # print(self.target_list)\n",
        "        # reduce the target repeat countdown by 1\n",
        "        self.current_countdown -= 1\n",
        "\n",
        "        # map the action to the angle of projectile\n",
        "        self.angle = self.action_to_angle[action]\n",
        "\n",
        "        # this is the range covered by the projectile at the given angle, save it in the \n",
        "        # lookup table for current ranges\n",
        "        self.range = self.calc_range()\n",
        "\n",
        "        # evaluate error for this round\n",
        "        self.error = self.get_info(verbose=False) \n",
        "\n",
        "        # if the error in this round is less than the history of errors for this round, the \n",
        "        # reward is set to +1. If it is higher, -1. Else, the reward is 0\n",
        "        if self.error < self.min_error[self.target]:\n",
        "            self.reward = 1 \n",
        "            self.min_error[self.target] = self.error # update error range value\n",
        "        elif self.error > self.min_error[self.target]:\n",
        "            self.reward = -1\n",
        "        elif self.error == self.min_error[self.target]:\n",
        "            self.reward = 0\n",
        "\n",
        "        if self.current_countdown == 0:\n",
        "            if len(self.target_list) == 0:\n",
        "                # set self.done to True when there are no values left in self.target_list and end episode\n",
        "                self.done = True\n",
        "            else:\n",
        "                # else supply a new target and start the repeat counter again\n",
        "                self.new_target()\n",
        "                self.current_countdown = self.max_repeat\n",
        "        \n",
        "        return self.get_obs(), self.reward, self.done, self.get_info()\n",
        "        \n",
        "\n",
        "    def render(self):\n",
        "        rad = np.pi/180 * self.angle\n",
        "        plt.figure()\n",
        "        # plt.clf()\n",
        "        params = {'mathtext.default': 'regular' }  # mathtext, for subscripting 0 in v0 in plot title\n",
        "        tmax = (2 * self.v) * np.sin(rad) / self.g # calculate time of flight\n",
        "        t = tmax*np.linspace(0,1,100) # divide time of flight into 100 uniform time steps\n",
        "        self.x = ((self.v * t) * np.cos(rad)) # horizontal distance at each time step\n",
        "        self.y = ((self.v * t) * np.sin(rad)) - ((0.5 * self.g) * (t ** 2)) # vertical distance \n",
        "\n",
        "        plt.plot(self.x, self.y, color='g') # plot path\n",
        "\n",
        "        # draw line to target target (i.e desired distance) saved in `self.target`\n",
        "        plt.axvline(x = self.target, ls='--', color = 'b', label = f'target: {self.target}m') \n",
        "\n",
        "        # draw projectile at final coordinates\n",
        "        plt.scatter(self.x[-1], self.y[-1], color='r', marker=\"^\", s=200)\n",
        "\n",
        "        plt.ylim([0,10])\n",
        "        plt.xlim(left=0)\n",
        "        plt.title(f'$v_{0}$ = {self.v}m/s, θ = {self.angle}°, abs. error = {np.abs(self.x[-1]-self.target):.2f}m')\n",
        "        plt.legend()\n",
        "    \n",
        "    def __repr__(self):\n",
        "        return f'''Projectile environment: \n",
        "                   Initial velocity: {self.v}m/s\n",
        "                   Acceleration due to gravity: {self.g}m/s²\n",
        "                   Available angles in degrees:{list(self.action_to_angle.values())}'''"
      ]
    },
    {
      "cell_type": "markdown",
      "metadata": {
        "id": "PFkglLzJOU7f"
      },
      "source": [
        "# Solving this environment using the `Q` class\n",
        "Using the range formula provided earlier, we can expect our q-learning algorithms to learn the closest angles. Peep the table below for an accurate calculation of the ranges covered at the provided angles"
      ]
    },
    {
      "cell_type": "code",
      "execution_count": 9,
      "metadata": {
        "colab": {
          "base_uri": "https://localhost:8080/"
        },
        "id": "CG8hWC_rS0au",
        "outputId": "9ecb03d1-e9b2-48de-d148-c6e44c3cc276"
      },
      "outputs": [
        {
          "name": "stdout",
          "output_type": "stream",
          "text": [
            "Initial velocity set to 15 m/s\n",
            "\n",
            "==========  ============\n",
            "angle(°)    Range(m/s)\n",
            "==========  ============\n",
            "5°          3.98682\n",
            "10°         7.8525\n",
            "15°         11.4796\n",
            "20°         14.7579\n",
            "25°         17.5878\n",
            "30°         19.8832\n",
            "35°         21.5746\n",
            "40°         22.6104\n",
            "45°         22.9592\n",
            "==========  ============\n"
          ]
        }
      ],
      "source": [
        "from tabulate import tabulate\n",
        "\n",
        "def calc_distance(angle, v = 15, g=9.8):\n",
        "    rad = np.pi/180 * angle\n",
        "    distance = (v**2) * np.sin(2 * rad) / g\n",
        "    return distance\n",
        "\n",
        "angles = [5, 10, 15, 20, 25, 30, 35, 40, 45]\n",
        "actual_ranges = []\n",
        "\n",
        "for a in angles:\n",
        "    actual_ranges.append([f'{a}°', calc_distance(a)])\n",
        "\n",
        "# html_table = tabulate(actual_ranges, headers=['angle(°)', 'Range(m/s)'], tablefmt='html', numalign='center')\n",
        "# print(html_table)\n",
        "\n",
        "print('Initial velocity set to 15 m/s\\n')\n",
        "print(tabulate(actual_ranges, headers=['angle(°)', 'Range(m/s)'], tablefmt='rst', numalign='left'))"
      ]
    },
    {
      "cell_type": "code",
      "execution_count": 10,
      "metadata": {
        "colab": {
          "base_uri": "https://localhost:8080/"
        },
        "id": "PRhAOUuJS36Q",
        "outputId": "03ade4ed-36d0-482a-f7e5-688ba9daabd7"
      },
      "outputs": [
        {
          "name": "stdout",
          "output_type": "stream",
          "text": [
            "<table>\n",
            "<thead>\n",
            "<tr><th>angle(°)  </th><th style=\"text-align: center;\"> Range(m/s) </th></tr>\n",
            "</thead>\n",
            "<tbody>\n",
            "<tr><td>5°        </td><td style=\"text-align: center;\">  3.98682   </td></tr>\n",
            "<tr><td>10°       </td><td style=\"text-align: center;\">   7.8525   </td></tr>\n",
            "<tr><td>15°       </td><td style=\"text-align: center;\">  11.4796   </td></tr>\n",
            "<tr><td>20°       </td><td style=\"text-align: center;\">  14.7579   </td></tr>\n",
            "<tr><td>25°       </td><td style=\"text-align: center;\">  17.5878   </td></tr>\n",
            "<tr><td>30°       </td><td style=\"text-align: center;\">  19.8832   </td></tr>\n",
            "<tr><td>35°       </td><td style=\"text-align: center;\">  21.5746   </td></tr>\n",
            "<tr><td>40°       </td><td style=\"text-align: center;\">  22.6104   </td></tr>\n",
            "<tr><td>45°       </td><td style=\"text-align: center;\">  22.9592   </td></tr>\n",
            "</tbody>\n",
            "</table>\n"
          ]
        }
      ],
      "source": [
        "html_table = tabulate(actual_ranges, headers=['angle(°)', 'Range(m/s)'], tablefmt='html', numalign='center')\n",
        "print(html_table)"
      ]
    },
    {
      "cell_type": "code",
      "execution_count": 12,
      "metadata": {
        "id": "qapPHWQsRI1g"
      },
      "outputs": [],
      "source": [
        "from .script_version.q_learning import Q"
      ]
    },
    {
      "cell_type": "code",
      "execution_count": 13,
      "metadata": {
        "colab": {
          "base_uri": "https://localhost:8080/",
          "height": 367
        },
        "id": "e6BxSNB3RQjF",
        "outputId": "ca7751ab-c995-4aec-921e-b8eef49112eb"
      },
      "outputs": [
        {
          "name": "stderr",
          "output_type": "stream",
          "text": [
            "100%|██████████| 5000/5000 [00:35<00:00, 140.78it/s]\n"
          ]
        },
        {
          "data": {
            "image/png": "[encoded data removed]",
            "text/plain": [
              "<Figure size 720x360 with 2 Axes>"
            ]
          },
          "metadata": {
            "needs_background": "light"
          },
          "output_type": "display_data"
        }
      ],
      "source": [
        "sim = Projectile()\n",
        "sim.reset()\n",
        "model = Q(sim, exploration_fraction=0.5)\n",
        "model.train()\n",
        "model.show(save_as='converged.png')"
      ]
    },
    {
      "cell_type": "markdown",
      "metadata": {
        "id": "AjVQ92SUTVGJ"
      },
      "source": [
        "Compare the values supplied by the model to the actual computed values using the projectile range formula:\n",
        "Initial velocity set to 15 m/s\n",
        "\n",
        "==========  ============  \n",
        "angle(°)    Range(m/s)  \n",
        "==========  ============  \n",
        "5°          3.98682  \n",
        "10°         7.8525  \n",
        "15°         11.4796  \n",
        "20°         14.7579  \n",
        "25°         17.5878  \n",
        "30°         19.8832  \n",
        "35°         21.5746  \n",
        "40°         22.6104  \n",
        "45°         22.9592  \n",
        "==========  ============  \n",
        "\n",
        "Congratulations! As you can see, we've successfully solved this mini problem of projectile angles with standard q-learning!"
      ]
    }
  ],
  "metadata": {
    "colab": {
      "provenance": []
    },
    "kernelspec": {
      "display_name": "Python 3.10.1 ('.venv': venv)",
      "language": "python",
      "name": "python3"
    },
    "language_info": {
      "name": "python",
      "version": "3.10.1"
    },
    "vscode": {
      "interpreter": {
        "hash": "6c57c71fa6b29174a4e284f6431bb39adc377eef7361b5e7d4c4ead7be1eee4e"
      }
    }
  },
  "nbformat": 4,
  "nbformat_minor": 0
}
